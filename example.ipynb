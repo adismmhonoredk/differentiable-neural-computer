{
 "cells": [
  {
   "cell_type": "markdown",
   "metadata": {},
   "source": [
    "- Add LSTM baseline model\n",
    "- Generate a bunch of those memory sequences and train on batches"
   ]
  },
  {
   "cell_type": "code",
   "execution_count": 1,
   "metadata": {},
   "outputs": [],
   "source": [
    "import logging\n",
    "import numpy as np\n",
    "import tensorflow as tf\n",
    "from model import DNC\n",
    "from trainer import trainer\n",
    "\n",
    "logger = tf.get_logger()\n",
    "logger.setLevel(logging.ERROR)"
   ]
  },
  {
   "cell_type": "markdown",
   "metadata": {},
   "source": [
    "### Generate training data"
   ]
  },
  {
   "cell_type": "code",
   "execution_count": 62,
   "metadata": {},
   "outputs": [
    {
     "name": "stdout",
     "output_type": "stream",
     "text": [
      "(600,)\n",
      "(100, 6, 4)\n"
     ]
    }
   ],
   "source": [
    "n_train = 100\n",
    "rows, cols = 6, 4\n",
    "ones = np.random.randint(0, cols, size=rows*n_train)\n",
    "print(ones.shape)\n",
    "seq = np.zeros((n_train, rows, cols))\n",
    "print(seq.shape)"
   ]
  },
  {
   "cell_type": "code",
   "execution_count": null,
   "metadata": {},
   "outputs": [],
   "source": []
  },
  {
   "cell_type": "code",
   "execution_count": null,
   "metadata": {},
   "outputs": [],
   "source": [
    "seq = np.zeros((n_train, rows, cols))\n",
    "seq[np.arange(rows), ones] = 1\n",
    "zer = np.zeros((rows, cols))\n",
    "\n",
    "X = np.concatenate((seq, zer), axis=0).astype(np.float32)\n",
    "y = np.concatenate((zer, seq), axis=0).astype(np.float32)\n",
    "\n",
    "for i in range(rows):\n",
    "    assert (X[i, :] == y[rows+i,:]).all()\n",
    "\n",
    "X_train = np.expand_dims(X, axis=0)\n",
    "y_train = np.expand_dims(y, axis=0)\n"
   ]
  },
  {
   "cell_type": "code",
   "execution_count": null,
   "metadata": {},
   "outputs": [],
   "source": []
  },
  {
   "cell_type": "code",
   "execution_count": null,
   "metadata": {},
   "outputs": [],
   "source": []
  },
  {
   "cell_type": "code",
   "execution_count": 2,
   "metadata": {},
   "outputs": [],
   "source": [
    "rows, cols = 6, 4\n",
    "ones = np.random.randint(0, cols, size=rows)\n",
    "seq = np.zeros((rows, cols))\n",
    "seq[np.arange(rows), ones] = 1\n",
    "zer = np.zeros((rows, cols))\n",
    "\n",
    "X = np.concatenate((seq, zer), axis=0).astype(np.float32)\n",
    "y = np.concatenate((zer, seq), axis=0).astype(np.float32)\n",
    "\n",
    "for i in range(rows):\n",
    "    assert (X[i, :] == y[rows+i,:]).all()\n",
    "\n",
    "X_train = np.expand_dims(X, axis=0)\n",
    "y_train = np.expand_dims(y, axis=0)"
   ]
  },
  {
   "cell_type": "markdown",
   "metadata": {},
   "source": [
    "### Initialize and train DNC model\n",
    "\n",
    "Initialize:"
   ]
  },
  {
   "cell_type": "code",
   "execution_count": 3,
   "metadata": {},
   "outputs": [],
   "source": [
    "dnc = DNC(\n",
    "    output_dim=cols,\n",
    "    memory_shape=(10,4),  # shape of memory matrix\n",
    "    n_read=1              # nb of read heads\n",
    ")"
   ]
  },
  {
   "cell_type": "markdown",
   "metadata": {},
   "source": [
    "Train:"
   ]
  },
  {
   "cell_type": "code",
   "execution_count": 15,
   "metadata": {},
   "outputs": [],
   "source": [
    "trainer(\n",
    "    model=dnc,\n",
    "    loss_fn=tf.keras.losses.mse,\n",
    "    X_train=X_train,\n",
    "    y_train=y_train,\n",
    "    epochs=500,\n",
    "    batch_size=1,\n",
    "    verbose=False\n",
    ")"
   ]
  },
  {
   "cell_type": "markdown",
   "metadata": {},
   "source": [
    "Predict on `X`:"
   ]
  },
  {
   "cell_type": "code",
   "execution_count": 16,
   "metadata": {},
   "outputs": [],
   "source": [
    "y_pred = dnc(X).numpy()"
   ]
  },
  {
   "cell_type": "markdown",
   "metadata": {},
   "source": [
    "Check if the predictions are almost the same as the ground truth `y`:"
   ]
  },
  {
   "cell_type": "code",
   "execution_count": 18,
   "metadata": {},
   "outputs": [
    {
     "data": {
      "text/plain": [
       "array([[ 9.2724264e-03, -7.6735392e-03, -2.6266277e-03,  4.6815872e-03],\n",
       "       [-2.8955340e-03, -5.4877438e-03, -5.0735623e-03,  8.3521605e-03],\n",
       "       [-2.9538572e-03, -1.0655727e-03, -7.1721077e-03,  3.8100034e-03],\n",
       "       [-1.8956363e-03, -5.6152157e-03, -4.3858513e-03,  6.1591566e-03],\n",
       "       [-3.0968189e-03, -4.2329580e-03, -2.0351112e-03,  3.3300817e-03],\n",
       "       [-3.7959218e-03,  1.4320649e-03,  1.9368529e-04,  8.7299049e-03],\n",
       "       [-1.0986090e-02, -7.9876557e-04, -3.9141476e-03,  1.0055457e+00],\n",
       "       [-4.5063496e-03,  1.0020233e+00,  5.6702495e-03,  1.9157469e-02],\n",
       "       [ 4.8452616e-04,  2.8419420e-03, -4.2665452e-03,  1.0040584e+00],\n",
       "       [ 9.9847925e-01, -3.1949431e-03,  7.7199042e-03,  2.0938396e-02],\n",
       "       [ 9.5604062e-03,  3.0630007e-03, -2.5590062e-03,  9.9297392e-01],\n",
       "       [ 9.9689913e-01,  3.5163760e-03, -3.5902262e-03, -1.1046052e-02]],\n",
       "      dtype=float32)"
      ]
     },
     "execution_count": 18,
     "metadata": {},
     "output_type": "execute_result"
    }
   ],
   "source": [
    "y_pred"
   ]
  },
  {
   "cell_type": "code",
   "execution_count": 23,
   "metadata": {},
   "outputs": [],
   "source": [
    "#np.testing.assert_almost_equal(y_pred, y, decimal=2)"
   ]
  },
  {
   "cell_type": "code",
   "execution_count": 24,
   "metadata": {},
   "outputs": [
    {
     "data": {
      "text/plain": [
       "array([[ 9.2724264e-03, -7.6735392e-03, -2.6266277e-03,  4.6815872e-03],\n",
       "       [-2.8955340e-03, -5.4877438e-03, -5.0735623e-03,  8.3521605e-03],\n",
       "       [-2.9538572e-03, -1.0655727e-03, -7.1721077e-03,  3.8100034e-03],\n",
       "       [-1.8956363e-03, -5.6152157e-03, -4.3858513e-03,  6.1591566e-03],\n",
       "       [-3.0968189e-03, -4.2329580e-03, -2.0351112e-03,  3.3300817e-03],\n",
       "       [-3.7959218e-03,  1.4320649e-03,  1.9368529e-04,  8.7299049e-03],\n",
       "       [-1.0986090e-02, -7.9876557e-04, -3.9141476e-03,  1.0055457e+00],\n",
       "       [-4.5063496e-03,  1.0020233e+00,  5.6702495e-03,  1.9157469e-02],\n",
       "       [ 4.8452616e-04,  2.8419420e-03, -4.2665452e-03,  1.0040584e+00],\n",
       "       [ 9.9847925e-01, -3.1949431e-03,  7.7199042e-03,  2.0938396e-02],\n",
       "       [ 9.5604062e-03,  3.0630007e-03, -2.5590062e-03,  9.9297392e-01],\n",
       "       [ 9.9689913e-01,  3.5163760e-03, -3.5902262e-03, -1.1046052e-02]],\n",
       "      dtype=float32)"
      ]
     },
     "execution_count": 24,
     "metadata": {},
     "output_type": "execute_result"
    }
   ],
   "source": [
    "y_pred"
   ]
  },
  {
   "cell_type": "code",
   "execution_count": 25,
   "metadata": {},
   "outputs": [
    {
     "data": {
      "text/plain": [
       "array([[0., 0., 0., 0.],\n",
       "       [0., 0., 0., 0.],\n",
       "       [0., 0., 0., 0.],\n",
       "       [0., 0., 0., 0.],\n",
       "       [0., 0., 0., 0.],\n",
       "       [0., 0., 0., 0.],\n",
       "       [0., 0., 0., 1.],\n",
       "       [0., 1., 0., 0.],\n",
       "       [0., 0., 0., 1.],\n",
       "       [1., 0., 0., 0.],\n",
       "       [0., 0., 0., 1.],\n",
       "       [1., 0., 0., 0.]], dtype=float32)"
      ]
     },
     "execution_count": 25,
     "metadata": {},
     "output_type": "execute_result"
    }
   ],
   "source": [
    "y"
   ]
  },
  {
   "cell_type": "markdown",
   "metadata": {},
   "source": [
    "### Compare with LSTM baseline model"
   ]
  },
  {
   "cell_type": "code",
   "execution_count": 30,
   "metadata": {},
   "outputs": [],
   "source": [
    "from tensorflow.keras.layers import Dense, InputLayer, LSTM\n",
    "from tensorflow.keras.models import Sequential"
   ]
  },
  {
   "cell_type": "code",
   "execution_count": 53,
   "metadata": {},
   "outputs": [
    {
     "data": {
      "text/plain": [
       "<tensorflow.python.keras.callbacks.History at 0x7fda720cbd30>"
      ]
     },
     "execution_count": 53,
     "metadata": {},
     "output_type": "execute_result"
    }
   ],
   "source": [
    "model = Sequential([\n",
    "    InputLayer(input_shape=X.shape),\n",
    "    LSTM(20, return_sequences=True),\n",
    "    Dense(4, activation=None)\n",
    "])\n",
    "\n",
    "model.compile(optimizer='adam', loss='mse')\n",
    "model.fit(X_train, y_train, epochs=1000, verbose=0)"
   ]
  },
  {
   "cell_type": "code",
   "execution_count": 54,
   "metadata": {},
   "outputs": [],
   "source": [
    "y_ = model(X_train).numpy()"
   ]
  },
  {
   "cell_type": "code",
   "execution_count": 55,
   "metadata": {},
   "outputs": [
    {
     "data": {
      "text/plain": [
       "array([[ 1.6807001e-03,  2.1896362e-03, -1.0609522e-03,  3.7924740e-03],\n",
       "       [ 4.6399739e-03,  4.8826039e-03,  4.7537964e-05,  4.6107713e-03],\n",
       "       [-4.9219131e-03, -7.0456713e-03,  3.7104478e-03, -6.5649655e-03],\n",
       "       [-3.0669514e-03, -2.7648509e-03, -3.1739206e-03, -2.7667452e-03],\n",
       "       [ 2.5546309e-03,  3.6815256e-03, -1.5622881e-03,  3.0858051e-03],\n",
       "       [ 1.3735946e-03,  7.8260154e-04,  1.9159850e-03,  9.3661807e-04],\n",
       "       [-1.1108257e-03, -1.1548921e-03,  5.2596210e-05,  9.9886554e-01],\n",
       "       [ 5.1144511e-05,  1.0001471e+00, -2.2563455e-04,  1.7821975e-04],\n",
       "       [ 1.5990250e-04,  1.5917420e-04, -1.7116597e-04,  1.0001961e+00],\n",
       "       [ 9.9986362e-01, -2.0995736e-04,  2.6696926e-04, -1.5820377e-04],\n",
       "       [ 1.1468120e-04,  7.4259937e-05,  9.7734155e-05,  1.0000833e+00],\n",
       "       [ 9.9991417e-01, -2.9057264e-06, -2.2532936e-04, -8.9298934e-05]],\n",
       "      dtype=float32)"
      ]
     },
     "execution_count": 55,
     "metadata": {},
     "output_type": "execute_result"
    }
   ],
   "source": [
    "y_[0]"
   ]
  },
  {
   "cell_type": "code",
   "execution_count": 56,
   "metadata": {},
   "outputs": [
    {
     "data": {
      "text/plain": [
       "array([[0., 0., 0., 0.],\n",
       "       [0., 0., 0., 0.],\n",
       "       [0., 0., 0., 0.],\n",
       "       [0., 0., 0., 0.],\n",
       "       [0., 0., 0., 0.],\n",
       "       [0., 0., 0., 0.],\n",
       "       [0., 0., 0., 1.],\n",
       "       [0., 1., 0., 0.],\n",
       "       [0., 0., 0., 1.],\n",
       "       [1., 0., 0., 0.],\n",
       "       [0., 0., 0., 1.],\n",
       "       [1., 0., 0., 0.]], dtype=float32)"
      ]
     },
     "execution_count": 56,
     "metadata": {},
     "output_type": "execute_result"
    }
   ],
   "source": [
    "y"
   ]
  },
  {
   "cell_type": "code",
   "execution_count": null,
   "metadata": {},
   "outputs": [],
   "source": []
  }
 ],
 "metadata": {
  "kernelspec": {
   "display_name": "Python [conda env:cdod] *",
   "language": "python",
   "name": "conda-env-cdod-py"
  },
  "language_info": {
   "codemirror_mode": {
    "name": "ipython",
    "version": 3
   },
   "file_extension": ".py",
   "mimetype": "text/x-python",
   "name": "python",
   "nbconvert_exporter": "python",
   "pygments_lexer": "ipython3",
   "version": "3.6.9"
  }
 },
 "nbformat": 4,
 "nbformat_minor": 2
}
